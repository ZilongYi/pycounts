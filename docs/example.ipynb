{
    "cells": [
        {
            "cell_type": "markdown",
            "metadata": {},
            "source": [
                "# Example usage\n",
                "\n",
                "To use `pycounts` in a project:"
            ]
        },
        {
            "cell_type": "code",
            "execution_count": null,
            "metadata": {},
            "outputs": [],
            "source": [
                "import pycounts\n",
                "\n",
                "print(pycounts.__version__)"
            ]
        }
    ],
    "metadata": {
        "kernelspec": {
            "display_name": "571",
            "language": "python",
            "name": "python3"
        },
        "language_info": {
            "codemirror_mode": {
                "name": "ipython",
                "version": 3
            },
            "file_extension": ".py",
            "mimetype": "text/x-python",
            "name": "python",
            "nbconvert_exporter": "python",
            "pygments_lexer": "ipython3",
            "version": "3.10.6 | packaged by conda-forge | (main, Aug 22 2022, 20:41:22) [Clang 13.0.1 ]"
        },
        "vscode": {
            "interpreter": {
                "hash": "b27a5ae164735ed313789aacfb4cbc045fc52609d1d9d0dcbcdb61f296f74e16"
            }
        }
    },
    "nbformat": 4,
    "nbformat_minor": 4
}
